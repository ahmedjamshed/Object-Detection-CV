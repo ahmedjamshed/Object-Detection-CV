{
  "nbformat": 4,
  "nbformat_minor": 0,
  "metadata": {
    "colab": {
      "name": "yolo3.ipynb",
      "provenance": [],
      "collapsed_sections": []
    },
    "kernelspec": {
      "name": "python3",
      "display_name": "Python 3"
    },
    "accelerator": "GPU"
  },
  "cells": [
    {
      "cell_type": "code",
      "metadata": {
        "id": "dGNj2_j-QCl9",
        "colab_type": "code",
        "outputId": "5a0eff30-041f-4717-9f09-1eee29b09fce",
        "colab": {
          "base_uri": "https://localhost:8080/",
          "height": 122
        }
      },
      "source": [
        "from google.colab import drive\n",
        "drive.mount('/content/drive/', force_remount=True)\n",
        "root_path = \"/content/drive/My Drive/\""
      ],
      "execution_count": 0,
      "outputs": [
        {
          "output_type": "stream",
          "text": [
            "Go to this URL in a browser: https://accounts.google.com/o/oauth2/auth?client_id=947318989803-6bn6qk8qdgf4n4g3pfee6491hc0brc4i.apps.googleusercontent.com&redirect_uri=urn%3aietf%3awg%3aoauth%3a2.0%3aoob&response_type=code&scope=email%20https%3a%2f%2fwww.googleapis.com%2fauth%2fdocs.test%20https%3a%2f%2fwww.googleapis.com%2fauth%2fdrive%20https%3a%2f%2fwww.googleapis.com%2fauth%2fdrive.photos.readonly%20https%3a%2f%2fwww.googleapis.com%2fauth%2fpeopleapi.readonly\n",
            "\n",
            "Enter your authorization code:\n",
            "··········\n",
            "Mounted at /content/drive/\n"
          ],
          "name": "stdout"
        }
      ]
    },
    {
      "cell_type": "code",
      "metadata": {
        "id": "alUzBlWWQmFu",
        "colab_type": "code",
        "outputId": "49323b04-bc9a-4af8-b45c-933d75305a29",
        "colab": {
          "base_uri": "https://localhost:8080/",
          "height": 136
        }
      },
      "source": [
        "!git clone https://github.com/ahmedjamshed/keras-yolo3.git"
      ],
      "execution_count": 0,
      "outputs": [
        {
          "output_type": "stream",
          "text": [
            "Cloning into 'keras-yolo3'...\n",
            "remote: Enumerating objects: 3, done.\u001b[K\n",
            "remote: Counting objects:  33% (1/3)\u001b[K\rremote: Counting objects:  66% (2/3)\u001b[K\rremote: Counting objects: 100% (3/3)\u001b[K\rremote: Counting objects: 100% (3/3), done.\u001b[K\n",
            "remote: Compressing objects:  33% (1/3)\u001b[K\rremote: Compressing objects:  66% (2/3)\u001b[K\rremote: Compressing objects: 100% (3/3)\u001b[K\rremote: Compressing objects: 100% (3/3), done.\u001b[K\n",
            "Receiving objects:   0% (1/223)   \rReceiving objects:   1% (3/223)   \rReceiving objects:   2% (5/223)   \rReceiving objects:   3% (7/223)   \rReceiving objects:   4% (9/223)   \rReceiving objects:   5% (12/223)   \rReceiving objects:   6% (14/223)   \rReceiving objects:   7% (16/223)   \rReceiving objects:   8% (18/223)   \rReceiving objects:   9% (21/223)   \rReceiving objects:  10% (23/223)   \rReceiving objects:  11% (25/223)   \rReceiving objects:  12% (27/223)   \rReceiving objects:  13% (29/223)   \rReceiving objects:  14% (32/223)   \rReceiving objects:  15% (34/223)   \rReceiving objects:  16% (36/223)   \rReceiving objects:  17% (38/223)   \rReceiving objects:  18% (41/223)   \rReceiving objects:  19% (43/223)   \rReceiving objects:  20% (45/223)   \rReceiving objects:  21% (47/223)   \rReceiving objects:  22% (50/223)   \rReceiving objects:  23% (52/223)   \rReceiving objects:  24% (54/223)   \rReceiving objects:  25% (56/223)   \rReceiving objects:  26% (58/223)   \rReceiving objects:  27% (61/223)   \rReceiving objects:  28% (63/223)   \rReceiving objects:  29% (65/223)   \rReceiving objects:  30% (67/223)   \rReceiving objects:  31% (70/223)   \rReceiving objects:  32% (72/223)   \rReceiving objects:  33% (74/223)   \rReceiving objects:  34% (76/223)   \rReceiving objects:  35% (79/223)   \rReceiving objects:  36% (81/223)   \rReceiving objects:  37% (83/223)   \rReceiving objects:  38% (85/223)   \rReceiving objects:  39% (87/223)   \rReceiving objects:  40% (90/223)   \rReceiving objects:  41% (92/223)   \rReceiving objects:  42% (94/223)   \rReceiving objects:  43% (96/223)   \rReceiving objects:  44% (99/223)   \rReceiving objects:  45% (101/223)   \rReceiving objects:  46% (103/223)   \rReceiving objects:  47% (105/223)   \rReceiving objects:  48% (108/223)   \rReceiving objects:  49% (110/223)   \rReceiving objects:  50% (112/223)   \rReceiving objects:  51% (114/223)   \rReceiving objects:  52% (116/223)   \rReceiving objects:  53% (119/223)   \rReceiving objects:  54% (121/223)   \rReceiving objects:  55% (123/223)   \rReceiving objects:  56% (125/223)   \rReceiving objects:  57% (128/223)   \rReceiving objects:  58% (130/223)   \rReceiving objects:  59% (132/223)   \rReceiving objects:  60% (134/223)   \rReceiving objects:  61% (137/223)   \rReceiving objects:  62% (139/223)   \rReceiving objects:  63% (141/223)   \rReceiving objects:  64% (143/223)   \rReceiving objects:  65% (145/223)   \rReceiving objects:  66% (148/223)   \rReceiving objects:  67% (150/223)   \rReceiving objects:  68% (152/223)   \rReceiving objects:  69% (154/223)   \rReceiving objects:  70% (157/223)   \rReceiving objects:  71% (159/223)   \rReceiving objects:  72% (161/223)   \rReceiving objects:  73% (163/223)   \rReceiving objects:  74% (166/223)   \rReceiving objects:  75% (168/223)   \rReceiving objects:  76% (170/223)   \rReceiving objects:  77% (172/223)   \rReceiving objects:  78% (174/223)   \rReceiving objects:  79% (177/223)   \rReceiving objects:  80% (179/223)   \rReceiving objects:  81% (181/223)   \rremote: Total 223 (delta 0), reused 0 (delta 0), pack-reused 220\u001b[K\n",
            "Receiving objects:  82% (183/223)   \rReceiving objects:  83% (186/223)   \rReceiving objects:  84% (188/223)   \rReceiving objects:  85% (190/223)   \rReceiving objects:  86% (192/223)   \rReceiving objects:  87% (195/223)   \rReceiving objects:  88% (197/223)   \rReceiving objects:  89% (199/223)   \rReceiving objects:  90% (201/223)   \rReceiving objects:  91% (203/223)   \rReceiving objects:  92% (206/223)   \rReceiving objects:  93% (208/223)   \rReceiving objects:  94% (210/223)   \rReceiving objects:  95% (212/223)   \rReceiving objects:  96% (215/223)   \rReceiving objects:  97% (217/223)   \rReceiving objects:  98% (219/223)   \rReceiving objects:  99% (221/223)   \rReceiving objects: 100% (223/223)   \rReceiving objects: 100% (223/223), 93.19 KiB | 891.00 KiB/s, done.\n",
            "Resolving deltas:   0% (0/118)   \rResolving deltas:   1% (2/118)   \rResolving deltas:   5% (7/118)   \rResolving deltas:   6% (8/118)   \rResolving deltas:   7% (9/118)   \rResolving deltas:   8% (10/118)   \rResolving deltas:  11% (13/118)   \rResolving deltas:  17% (21/118)   \rResolving deltas:  19% (23/118)   \rResolving deltas:  21% (25/118)   \rResolving deltas:  25% (30/118)   \rResolving deltas:  27% (32/118)   \rResolving deltas:  29% (35/118)   \rResolving deltas:  39% (47/118)   \rResolving deltas:  42% (50/118)   \rResolving deltas:  50% (59/118)   \rResolving deltas:  52% (62/118)   \rResolving deltas:  53% (63/118)   \rResolving deltas:  56% (67/118)   \rResolving deltas:  61% (73/118)   \rResolving deltas:  63% (75/118)   \rResolving deltas:  64% (76/118)   \rResolving deltas:  67% (80/118)   \rResolving deltas:  68% (81/118)   \rResolving deltas:  76% (90/118)   \rResolving deltas:  88% (104/118)   \rResolving deltas:  89% (106/118)   \rResolving deltas:  94% (111/118)   \rResolving deltas:  96% (114/118)   \rResolving deltas:  97% (115/118)   \rResolving deltas: 100% (118/118)   \rResolving deltas: 100% (118/118), done.\n"
          ],
          "name": "stdout"
        }
      ]
    },
    {
      "cell_type": "code",
      "metadata": {
        "id": "njcXTENVQ5UD",
        "colab_type": "code",
        "outputId": "cf83398b-fa45-4bbe-f811-dc2c5895c248",
        "colab": {
          "base_uri": "https://localhost:8080/",
          "height": 170
        }
      },
      "source": [
        "%cd /content/keras-yolo3/\n",
        "!ls"
      ],
      "execution_count": 0,
      "outputs": [
        {
          "output_type": "stream",
          "text": [
            "/content/keras-yolo3\n",
            "callbacks.py\t\t  README.md\n",
            "config.json\t\t  requirements.txt\n",
            "create_validation_set.sh  train.py\n",
            "evaluate.py\t\t  utils\n",
            "gen_anchors.py\t\t  voc.py\n",
            "generator.py\t\t  yolo3_one_file_to_detect_them_all.py\n",
            "LICENSE\t\t\t  yolo.py\n",
            "predict.py\t\t  zoo\n"
          ],
          "name": "stdout"
        }
      ]
    },
    {
      "cell_type": "code",
      "metadata": {
        "id": "i59ljHy3W1Eb",
        "colab_type": "code",
        "colab": {}
      },
      "source": [
        "!pip install -r requirements.txt"
      ],
      "execution_count": 0,
      "outputs": []
    },
    {
      "cell_type": "code",
      "metadata": {
        "id": "xVaotKsmbYtM",
        "colab_type": "code",
        "colab": {}
      },
      "source": [
        "!pip install tensorflow-gpu==1.15.0"
      ],
      "execution_count": 0,
      "outputs": []
    },
    {
      "cell_type": "code",
      "metadata": {
        "id": "ED1DnNhtRDMb",
        "colab_type": "code",
        "colab": {}
      },
      "source": [
        "# !python gen_anchors.py -c /content/drive/My\\ Drive/SIMS/Yolo3Cache/config.json"
      ],
      "execution_count": 0,
      "outputs": []
    },
    {
      "cell_type": "code",
      "metadata": {
        "id": "r4Jup5msjjKm",
        "colab_type": "code",
        "colab": {}
      },
      "source": [
        "!cp /content/drive/My\\ Drive/SIMS/Yolo3Cache/backend.h5 /content/keras-yolo3"
      ],
      "execution_count": 0,
      "outputs": []
    },
    {
      "cell_type": "code",
      "metadata": {
        "id": "9DMv1WYff86W",
        "colab_type": "code",
        "outputId": "a748f8a4-f30c-4dff-ca21-517a7baabe5a",
        "colab": {
          "base_uri": "https://localhost:8080/",
          "height": 1000
        }
      },
      "source": [
        "!python train.py -c /content/drive/My\\ Drive/SIMS/Yolo3Cache/config.json"
      ],
      "execution_count": 0,
      "outputs": [
        {
          "output_type": "stream",
          "text": [
            "Using TensorFlow backend.\n",
            "2020-05-16 07:45:59.909455: I tensorflow/core/platform/cpu_feature_guard.cc:142] Your CPU supports instructions that this TensorFlow binary was not compiled to use: AVX2 AVX512F FMA\n",
            "2020-05-16 07:45:59.914461: I tensorflow/core/platform/profile_utils/cpu_utils.cc:94] CPU Frequency: 2000185000 Hz\n",
            "2020-05-16 07:45:59.914637: I tensorflow/compiler/xla/service/service.cc:168] XLA service 0x27e8bc0 initialized for platform Host (this does not guarantee that XLA will be used). Devices:\n",
            "2020-05-16 07:45:59.914667: I tensorflow/compiler/xla/service/service.cc:176]   StreamExecutor device (0): Host, Default Version\n",
            "2020-05-16 07:45:59.917597: I tensorflow/stream_executor/platform/default/dso_loader.cc:44] Successfully opened dynamic library libcuda.so.1\n",
            "2020-05-16 07:46:00.076495: I tensorflow/stream_executor/cuda/cuda_gpu_executor.cc:983] successful NUMA node read from SysFS had negative value (-1), but there must be at least one NUMA node, so returning NUMA node zero\n",
            "2020-05-16 07:46:00.077251: I tensorflow/compiler/xla/service/service.cc:168] XLA service 0x27e8d80 initialized for platform CUDA (this does not guarantee that XLA will be used). Devices:\n",
            "2020-05-16 07:46:00.077285: I tensorflow/compiler/xla/service/service.cc:176]   StreamExecutor device (0): Tesla P100-PCIE-16GB, Compute Capability 6.0\n",
            "2020-05-16 07:46:00.078484: I tensorflow/stream_executor/cuda/cuda_gpu_executor.cc:983] successful NUMA node read from SysFS had negative value (-1), but there must be at least one NUMA node, so returning NUMA node zero\n",
            "2020-05-16 07:46:00.079066: I tensorflow/core/common_runtime/gpu/gpu_device.cc:1618] Found device 0 with properties: \n",
            "name: Tesla P100-PCIE-16GB major: 6 minor: 0 memoryClockRate(GHz): 1.3285\n",
            "pciBusID: 0000:00:04.0\n",
            "2020-05-16 07:46:00.095311: I tensorflow/stream_executor/platform/default/dso_loader.cc:44] Successfully opened dynamic library libcudart.so.10.0\n",
            "2020-05-16 07:46:00.302283: I tensorflow/stream_executor/platform/default/dso_loader.cc:44] Successfully opened dynamic library libcublas.so.10.0\n",
            "2020-05-16 07:46:00.385867: I tensorflow/stream_executor/platform/default/dso_loader.cc:44] Successfully opened dynamic library libcufft.so.10.0\n",
            "2020-05-16 07:46:00.409654: I tensorflow/stream_executor/platform/default/dso_loader.cc:44] Successfully opened dynamic library libcurand.so.10.0\n",
            "2020-05-16 07:46:00.649061: I tensorflow/stream_executor/platform/default/dso_loader.cc:44] Successfully opened dynamic library libcusolver.so.10.0\n",
            "2020-05-16 07:46:00.782772: I tensorflow/stream_executor/platform/default/dso_loader.cc:44] Successfully opened dynamic library libcusparse.so.10.0\n",
            "2020-05-16 07:46:01.287740: I tensorflow/stream_executor/platform/default/dso_loader.cc:44] Successfully opened dynamic library libcudnn.so.7\n",
            "2020-05-16 07:46:01.288001: I tensorflow/stream_executor/cuda/cuda_gpu_executor.cc:983] successful NUMA node read from SysFS had negative value (-1), but there must be at least one NUMA node, so returning NUMA node zero\n",
            "2020-05-16 07:46:01.288668: I tensorflow/stream_executor/cuda/cuda_gpu_executor.cc:983] successful NUMA node read from SysFS had negative value (-1), but there must be at least one NUMA node, so returning NUMA node zero\n",
            "2020-05-16 07:46:01.289274: I tensorflow/core/common_runtime/gpu/gpu_device.cc:1746] Adding visible gpu devices: 0\n",
            "2020-05-16 07:46:01.289375: I tensorflow/stream_executor/platform/default/dso_loader.cc:44] Successfully opened dynamic library libcudart.so.10.0\n",
            "2020-05-16 07:46:01.290776: I tensorflow/core/common_runtime/gpu/gpu_device.cc:1159] Device interconnect StreamExecutor with strength 1 edge matrix:\n",
            "2020-05-16 07:46:01.290809: I tensorflow/core/common_runtime/gpu/gpu_device.cc:1165]      0 \n",
            "2020-05-16 07:46:01.290835: I tensorflow/core/common_runtime/gpu/gpu_device.cc:1178] 0:   N \n",
            "2020-05-16 07:46:01.291018: I tensorflow/stream_executor/cuda/cuda_gpu_executor.cc:983] successful NUMA node read from SysFS had negative value (-1), but there must be at least one NUMA node, so returning NUMA node zero\n",
            "2020-05-16 07:46:01.291651: I tensorflow/stream_executor/cuda/cuda_gpu_executor.cc:983] successful NUMA node read from SysFS had negative value (-1), but there must be at least one NUMA node, so returning NUMA node zero\n",
            "2020-05-16 07:46:01.292330: I tensorflow/core/common_runtime/gpu/gpu_device.cc:1304] Created TensorFlow device (/job:localhost/replica:0/task:0/device:GPU:0 with 14652 MB memory) -> physical GPU (device: 0, name: Tesla P100-PCIE-16GB, pci bus id: 0000:00:04.0, compute capability: 6.0)\n",
            "WARNING:tensorflow:From train.py:26: The name tf.keras.backend.set_session is deprecated. Please use tf.compat.v1.keras.backend.set_session instead.\n",
            "\n",
            "Loaded till 0100\n",
            "Loaded till 0200\n",
            "Loaded till 0300\n",
            "Loaded till 0500\n",
            "Loaded till 0600\n",
            "Loaded till 0700\n",
            "Loaded till 0800\n",
            "Loaded till 0900\n",
            "Loaded till 1000\n",
            "Loaded till 1100\n",
            "Loaded till 1200\n",
            "Loaded till 1400\n",
            "Loaded till 1500\n",
            "Loaded till 1600\n",
            "Loaded till 1700\n",
            "Loaded till 1800\n",
            "Loaded till 1900\n",
            "Loaded till 2000\n",
            "Loaded till 2100\n",
            "Loaded till 2200\n",
            "Loaded till 2300\n",
            "Loaded till 2400\n",
            "Loaded till 2500\n",
            "Loaded till 2600\n",
            "Loaded till 2700\n",
            "Loaded till 2800\n",
            "Loaded till 2900\n",
            "Loaded till 3000\n",
            "Loaded till 3100\n",
            "Loaded till 3200\n",
            "Loaded till 3300\n",
            "Loaded till 3400\n",
            "Loaded till 3500\n",
            "Loaded till 3600\n",
            "Loaded till 3700\n",
            "Loaded till 3800\n",
            "Loaded till 3900\n",
            "Loaded till 4000\n",
            "Loaded till 4100\n",
            "Loaded till 4200\n",
            "Loaded till 4300\n",
            "Loaded till 4400\n",
            "Loaded till 4500\n",
            "Loaded till 4600\n",
            "Loaded till 4700\n",
            "Loaded till 4800\n",
            "Loaded till 4900\n",
            "Loaded till 5000\n",
            "Seen labels: \t{'car': 20003, 'van': 5611, 'bus': 1940, 'truck': 2731, 'other': 593, 'airliner': 944, 'stairtruck': 427, 'pushbacktruck': 186, 'longvehicle': 1592, 'propeller': 189, 'chartered': 633, 'helicopter': 59, 'trainer': 630, 'boat': 8454, 'fighter': 49, 'others': 163, 'pushback': 20}\n",
            "\n",
            "Given labels: \t['airliner', 'boat', 'bus', 'car', 'chartered', 'fighter', 'helicopter', 'longvehicle', 'other', 'propeller', 'pushbacktruck', 'stairtruck', 'trainer', 'truck', 'van']\n",
            "\n",
            "Training on: \t['airliner', 'boat', 'bus', 'car', 'chartered', 'fighter', 'helicopter', 'longvehicle', 'other', 'propeller', 'pushbacktruck', 'stairtruck', 'trainer', 'truck', 'van']\n",
            "\n",
            "WARNING:tensorflow:From /usr/local/lib/python3.6/dist-packages/tensorflow_core/python/ops/resource_variable_ops.py:1630: calling BaseResourceVariable.__init__ (from tensorflow.python.ops.resource_variable_ops) with constraint is deprecated and will be removed in a future version.\n",
            "Instructions for updating:\n",
            "If using Keras pass *_constraint arguments to layers.\n",
            "WARNING:tensorflow:From /content/keras-yolo3/yolo.py:26: to_float (from tensorflow.python.ops.math_ops) is deprecated and will be removed in a future version.\n",
            "Instructions for updating:\n",
            "Use `tf.cast` instead.\n",
            "WARNING:tensorflow:From /content/keras-yolo3/yolo.py:151: The name tf.assign_add is deprecated. Please use tf.compat.v1.assign_add instead.\n",
            "\n",
            "\n",
            "Loading pretrained weights.\n",
            "\n",
            "/usr/local/lib/python3.6/dist-packages/keras/callbacks/callbacks.py:998: UserWarning: `epsilon` argument is deprecated and will be removed, use `min_delta` instead.\n",
            "  warnings.warn('`epsilon` argument is deprecated and '\n",
            "WARNING:tensorflow:From /usr/local/lib/python3.6/dist-packages/keras/backend/tensorflow_backend.py:422: The name tf.global_variables is deprecated. Please use tf.compat.v1.global_variables instead.\n",
            "\n",
            "WARNING:tensorflow:From /usr/local/lib/python3.6/dist-packages/keras/backend/tensorflow_backend.py:431: The name tf.is_variable_initialized is deprecated. Please use tf.compat.v1.is_variable_initialized instead.\n",
            "\n",
            "WARNING:tensorflow:From /usr/local/lib/python3.6/dist-packages/keras/backend/tensorflow_backend.py:438: The name tf.variables_initializer is deprecated. Please use tf.compat.v1.variables_initializer instead.\n",
            "\n",
            "WARNING:tensorflow:From /usr/local/lib/python3.6/dist-packages/keras/callbacks/tensorboard_v1.py:200: The name tf.summary.merge_all is deprecated. Please use tf.compat.v1.summary.merge_all instead.\n",
            "\n",
            "WARNING:tensorflow:From /usr/local/lib/python3.6/dist-packages/keras/callbacks/tensorboard_v1.py:203: The name tf.summary.FileWriter is deprecated. Please use tf.compat.v1.summary.FileWriter instead.\n",
            "\n",
            "Epoch 1/70\n",
            "/usr/local/lib/python3.6/dist-packages/keras/utils/data_utils.py:616: UserWarning: The input 103 could not be retrieved. It could be because a worker has died.\n",
            "  UserWarning)\n",
            "resizing:  256 256\n",
            "2020-05-16 08:28:15.959459: W tensorflow/core/framework/cpu_allocator_impl.cc:81] Allocation of 201326592 exceeds 10% of system memory.\n",
            "2020-05-16 08:28:16.422548: W tensorflow/core/framework/cpu_allocator_impl.cc:81] Allocation of 201326592 exceeds 10% of system memory.\n",
            "2020-05-16 08:28:16.941404: I tensorflow/stream_executor/platform/default/dso_loader.cc:44] Successfully opened dynamic library libcudnn.so.7\n",
            "2020-05-16 08:28:21.403688: I tensorflow/stream_executor/platform/default/dso_loader.cc:44] Successfully opened dynamic library libcublas.so.10.0\n",
            "WARNING:tensorflow:From /content/keras-yolo3/callbacks.py:19: The name tf.Summary is deprecated. Please use tf.compat.v1.Summary instead.\n",
            "\n",
            "resizing:  256 256\n",
            "resizing:  256 256\n",
            "resizing:  256 256\n",
            "resizing:  256 256\n",
            "resizing:  256 256\n",
            "resizing:  256 256\n",
            "resizing:  256 256\n",
            "resizing:  256 256\n",
            "resizing:  256 256\n",
            "resizing:  256 256\n",
            "resizing:  256 256\n",
            "Traceback (most recent call last):\n",
            "  File \"/usr/local/lib/python3.6/dist-packages/keras/engine/training_generator.py\", line 185, in fit_generator\n",
            "    generator_output = next(output_generator)\n",
            "  File \"/usr/local/lib/python3.6/dist-packages/keras/utils/data_utils.py\", line 610, in get\n",
            "    inputs = future.get(timeout=30)\n",
            "  File \"/usr/lib/python3.6/multiprocessing/pool.py\", line 638, in get\n",
            "    self.wait(timeout)\n",
            "  File \"/usr/lib/python3.6/multiprocessing/pool.py\", line 635, in wait\n",
            "    self._event.wait(timeout)\n",
            "  File \"/usr/lib/python3.6/threading.py\", line 551, in wait\n",
            "    signaled = self._cond.wait(timeout)\n",
            "  File \"/usr/lib/python3.6/threading.py\", line 299, in wait\n",
            "    gotit = waiter.acquire(True, timeout)\n",
            "KeyboardInterrupt\n",
            "\n",
            "During handling of the above exception, another exception occurred:\n",
            "\n",
            "Traceback (most recent call last):\n",
            "  File \"train.py\", line 289, in <module>\n",
            "    _main_(args)\n",
            "  File \"train.py\", line 266, in _main_\n",
            "    max_queue_size   = 8\n",
            "  File \"/usr/local/lib/python3.6/dist-packages/keras/legacy/interfaces.py\", line 91, in wrapper\n",
            "    return func(*args, **kwargs)\n",
            "  File \"/usr/local/lib/python3.6/dist-packages/keras/engine/training.py\", line 1732, in fit_generator\n",
            "    initial_epoch=initial_epoch)\n",
            "  File \"/usr/local/lib/python3.6/dist-packages/keras/engine/training_generator.py\", line 287, in fit_generator\n",
            "    enqueuer.stop()\n",
            "  File \"/usr/local/lib/python3.6/dist-packages/keras/utils/data_utils.py\", line 501, in stop\n",
            "    self.run_thread.join(timeout)\n",
            "  File \"/usr/lib/python3.6/threading.py\", line 1055, in join\n",
            "    if timeout is None:\n",
            "KeyboardInterrupt\n"
          ],
          "name": "stdout"
        }
      ]
    },
    {
      "cell_type": "code",
      "metadata": {
        "id": "sYcbmEmyqidz",
        "colab_type": "code",
        "colab": {}
      },
      "source": [
        "!chmod 777 create_validation_set.sh"
      ],
      "execution_count": 0,
      "outputs": []
    },
    {
      "cell_type": "code",
      "metadata": {
        "id": "lsUsBNbypyfq",
        "colab_type": "code",
        "outputId": "2eb1153d-b621-4b50-cac9-3233f5aee61a",
        "colab": {
          "base_uri": "https://localhost:8080/",
          "height": 34
        }
      },
      "source": [
        "!./create_validation_set.sh /content/drive/My\\ Drive/SIMS/annotations/pascal_voc/JPEGImages /content/drive/My\\ Drive/SIMS/annotations/pascal_voc/Annotations 100 /content/drive/My\\ Drive/SIMS/Yolo3Cache/validation"
      ],
      "execution_count": 0,
      "outputs": [
        {
          "output_type": "stream",
          "text": [
            "ls: cannot open directory '/content/drive/My Drive/SIMS/annotations/pascal_voc/JPEGImages': Input/output error\n"
          ],
          "name": "stdout"
        }
      ]
    },
    {
      "cell_type": "code",
      "metadata": {
        "id": "yXVu44_Jf7w7",
        "colab_type": "code",
        "outputId": "cbbcf2bf-3ae6-401c-a202-d2b3bfce02be",
        "colab": {
          "base_uri": "https://localhost:8080/",
          "height": 1000
        }
      },
      "source": [
        "# %cd /content/keras-yolo3/\n",
        "!python evaluate.py -c /content/drive/My\\ Drive/SIMS/Yolo3Cache/config.json"
      ],
      "execution_count": 0,
      "outputs": [
        {
          "output_type": "stream",
          "text": [
            "Using TensorFlow backend.\n",
            "WARNING:tensorflow:From /usr/local/lib/python3.6/dist-packages/tensorflow_core/python/ops/resource_variable_ops.py:1630: calling BaseResourceVariable.__init__ (from tensorflow.python.ops.resource_variable_ops) with constraint is deprecated and will be removed in a future version.\n",
            "Instructions for updating:\n",
            "If using Keras pass *_constraint arguments to layers.\n",
            "2020-05-16 08:30:53.002673: I tensorflow/stream_executor/platform/default/dso_loader.cc:44] Successfully opened dynamic library libcuda.so.1\n",
            "2020-05-16 08:30:53.024813: I tensorflow/stream_executor/cuda/cuda_gpu_executor.cc:983] successful NUMA node read from SysFS had negative value (-1), but there must be at least one NUMA node, so returning NUMA node zero\n",
            "2020-05-16 08:30:53.025380: I tensorflow/core/common_runtime/gpu/gpu_device.cc:1618] Found device 0 with properties: \n",
            "name: Tesla P100-PCIE-16GB major: 6 minor: 0 memoryClockRate(GHz): 1.3285\n",
            "pciBusID: 0000:00:04.0\n",
            "2020-05-16 08:30:53.025654: I tensorflow/stream_executor/platform/default/dso_loader.cc:44] Successfully opened dynamic library libcudart.so.10.0\n",
            "2020-05-16 08:30:53.027007: I tensorflow/stream_executor/platform/default/dso_loader.cc:44] Successfully opened dynamic library libcublas.so.10.0\n",
            "2020-05-16 08:30:53.039365: I tensorflow/stream_executor/platform/default/dso_loader.cc:44] Successfully opened dynamic library libcufft.so.10.0\n",
            "2020-05-16 08:30:53.039754: I tensorflow/stream_executor/platform/default/dso_loader.cc:44] Successfully opened dynamic library libcurand.so.10.0\n",
            "2020-05-16 08:30:53.041606: I tensorflow/stream_executor/platform/default/dso_loader.cc:44] Successfully opened dynamic library libcusolver.so.10.0\n",
            "2020-05-16 08:30:53.048409: I tensorflow/stream_executor/platform/default/dso_loader.cc:44] Successfully opened dynamic library libcusparse.so.10.0\n",
            "2020-05-16 08:30:53.058455: I tensorflow/stream_executor/platform/default/dso_loader.cc:44] Successfully opened dynamic library libcudnn.so.7\n",
            "2020-05-16 08:30:53.058567: I tensorflow/stream_executor/cuda/cuda_gpu_executor.cc:983] successful NUMA node read from SysFS had negative value (-1), but there must be at least one NUMA node, so returning NUMA node zero\n",
            "2020-05-16 08:30:53.059164: I tensorflow/stream_executor/cuda/cuda_gpu_executor.cc:983] successful NUMA node read from SysFS had negative value (-1), but there must be at least one NUMA node, so returning NUMA node zero\n",
            "2020-05-16 08:30:53.059650: I tensorflow/core/common_runtime/gpu/gpu_device.cc:1746] Adding visible gpu devices: 0\n",
            "2020-05-16 08:30:53.060282: I tensorflow/core/platform/cpu_feature_guard.cc:142] Your CPU supports instructions that this TensorFlow binary was not compiled to use: AVX2 AVX512F FMA\n",
            "2020-05-16 08:30:53.065346: I tensorflow/core/platform/profile_utils/cpu_utils.cc:94] CPU Frequency: 2000185000 Hz\n",
            "2020-05-16 08:30:53.065547: I tensorflow/compiler/xla/service/service.cc:168] XLA service 0x2878d80 initialized for platform Host (this does not guarantee that XLA will be used). Devices:\n",
            "2020-05-16 08:30:53.065576: I tensorflow/compiler/xla/service/service.cc:176]   StreamExecutor device (0): Host, Default Version\n",
            "2020-05-16 08:30:53.156056: I tensorflow/stream_executor/cuda/cuda_gpu_executor.cc:983] successful NUMA node read from SysFS had negative value (-1), but there must be at least one NUMA node, so returning NUMA node zero\n",
            "2020-05-16 08:30:53.156716: I tensorflow/compiler/xla/service/service.cc:168] XLA service 0x2878f40 initialized for platform CUDA (this does not guarantee that XLA will be used). Devices:\n",
            "2020-05-16 08:30:53.156751: I tensorflow/compiler/xla/service/service.cc:176]   StreamExecutor device (0): Tesla P100-PCIE-16GB, Compute Capability 6.0\n",
            "2020-05-16 08:30:53.156969: I tensorflow/stream_executor/cuda/cuda_gpu_executor.cc:983] successful NUMA node read from SysFS had negative value (-1), but there must be at least one NUMA node, so returning NUMA node zero\n",
            "2020-05-16 08:30:53.157480: I tensorflow/core/common_runtime/gpu/gpu_device.cc:1618] Found device 0 with properties: \n",
            "name: Tesla P100-PCIE-16GB major: 6 minor: 0 memoryClockRate(GHz): 1.3285\n",
            "pciBusID: 0000:00:04.0\n",
            "2020-05-16 08:30:53.157545: I tensorflow/stream_executor/platform/default/dso_loader.cc:44] Successfully opened dynamic library libcudart.so.10.0\n",
            "2020-05-16 08:30:53.157568: I tensorflow/stream_executor/platform/default/dso_loader.cc:44] Successfully opened dynamic library libcublas.so.10.0\n",
            "2020-05-16 08:30:53.157587: I tensorflow/stream_executor/platform/default/dso_loader.cc:44] Successfully opened dynamic library libcufft.so.10.0\n",
            "2020-05-16 08:30:53.157605: I tensorflow/stream_executor/platform/default/dso_loader.cc:44] Successfully opened dynamic library libcurand.so.10.0\n",
            "2020-05-16 08:30:53.157628: I tensorflow/stream_executor/platform/default/dso_loader.cc:44] Successfully opened dynamic library libcusolver.so.10.0\n",
            "2020-05-16 08:30:53.157645: I tensorflow/stream_executor/platform/default/dso_loader.cc:44] Successfully opened dynamic library libcusparse.so.10.0\n",
            "2020-05-16 08:30:53.157663: I tensorflow/stream_executor/platform/default/dso_loader.cc:44] Successfully opened dynamic library libcudnn.so.7\n",
            "2020-05-16 08:30:53.157734: I tensorflow/stream_executor/cuda/cuda_gpu_executor.cc:983] successful NUMA node read from SysFS had negative value (-1), but there must be at least one NUMA node, so returning NUMA node zero\n",
            "2020-05-16 08:30:53.158313: I tensorflow/stream_executor/cuda/cuda_gpu_executor.cc:983] successful NUMA node read from SysFS had negative value (-1), but there must be at least one NUMA node, so returning NUMA node zero\n",
            "2020-05-16 08:30:53.158794: I tensorflow/core/common_runtime/gpu/gpu_device.cc:1746] Adding visible gpu devices: 0\n",
            "2020-05-16 08:30:53.158874: I tensorflow/stream_executor/platform/default/dso_loader.cc:44] Successfully opened dynamic library libcudart.so.10.0\n",
            "2020-05-16 08:30:53.159939: I tensorflow/core/common_runtime/gpu/gpu_device.cc:1159] Device interconnect StreamExecutor with strength 1 edge matrix:\n",
            "2020-05-16 08:30:53.159968: I tensorflow/core/common_runtime/gpu/gpu_device.cc:1165]      0 \n",
            "2020-05-16 08:30:53.159982: I tensorflow/core/common_runtime/gpu/gpu_device.cc:1178] 0:   N \n",
            "2020-05-16 08:30:53.160092: I tensorflow/stream_executor/cuda/cuda_gpu_executor.cc:983] successful NUMA node read from SysFS had negative value (-1), but there must be at least one NUMA node, so returning NUMA node zero\n",
            "2020-05-16 08:30:53.160615: I tensorflow/stream_executor/cuda/cuda_gpu_executor.cc:983] successful NUMA node read from SysFS had negative value (-1), but there must be at least one NUMA node, so returning NUMA node zero\n",
            "2020-05-16 08:30:53.161132: W tensorflow/core/common_runtime/gpu/gpu_bfc_allocator.cc:39] Overriding allow_growth setting because the TF_FORCE_GPU_ALLOW_GROWTH environment variable is set. Original config value was 0.\n",
            "2020-05-16 08:30:53.161169: I tensorflow/core/common_runtime/gpu/gpu_device.cc:1304] Created TensorFlow device (/job:localhost/replica:0/task:0/device:GPU:0 with 15216 MB memory) -> physical GPU (device: 0, name: Tesla P100-PCIE-16GB, pci bus id: 0000:00:04.0, compute capability: 6.0)\n",
            "/usr/local/lib/python3.6/dist-packages/keras/engine/saving.py:341: UserWarning: No training configuration found in save file: the model was *not* compiled. Compile it manually.\n",
            "  warnings.warn('No training configuration found in save file: '\n",
            "WARNING:tensorflow:From /usr/local/lib/python3.6/dist-packages/keras/backend/tensorflow_backend.py:422: The name tf.global_variables is deprecated. Please use tf.compat.v1.global_variables instead.\n",
            "\n",
            "2020-05-16 08:31:01.727450: I tensorflow/stream_executor/platform/default/dso_loader.cc:44] Successfully opened dynamic library libcudnn.so.7\n",
            "2020-05-16 08:31:02.739867: I tensorflow/stream_executor/platform/default/dso_loader.cc:44] Successfully opened dynamic library libcublas.so.10.0\n",
            "airliner: 0.9895\n",
            "boat: 0.9549\n",
            "bus: 0.9430\n",
            "car: 0.9446\n",
            "chartered: 0.9811\n",
            "fighter: 0.9849\n",
            "helicopter: 0.9898\n",
            "longvehicle: 0.9173\n",
            "other: 0.6810\n",
            "propeller: 0.9125\n",
            "pushbacktruck: 0.8040\n",
            "stairtruck: 0.8589\n",
            "trainer: 0.9724\n",
            "truck: 0.9100\n",
            "van: 0.9100\n",
            "mAP: 0.9169\n"
          ],
          "name": "stdout"
        }
      ]
    },
    {
      "cell_type": "code",
      "metadata": {
        "id": "VvVMKVovoSdR",
        "colab_type": "code",
        "colab": {}
      },
      "source": [
        "!python predict.py -c /content/drive/My\\ Drive/SIMS/Yolo3Cache/config.json -i /content/drive/My\\ Drive/SIMS/Yolo3Cache/test/1020.jpg -o /content/drive/My\\ Drive/SIMS/Yolo3Cache/output/"
      ],
      "execution_count": 0,
      "outputs": []
    },
    {
      "cell_type": "code",
      "metadata": {
        "id": "QYT5U0L0i8Jl",
        "colab_type": "code",
        "colab": {}
      },
      "source": [
        "!python predict.py -c /content/drive/My\\ Drive/SIMS/Yolo3Cache/config.json -i /content/drive/My\\ Drive/SIMS/Yolo3Cache/test/0025.jpg -o /content/drive/My\\ Drive/SIMS/Yolo3Cache/output/"
      ],
      "execution_count": 0,
      "outputs": []
    },
    {
      "cell_type": "code",
      "metadata": {
        "id": "Y5gg_oUci8pM",
        "colab_type": "code",
        "colab": {}
      },
      "source": [
        "!python predict.py -c /content/drive/My\\ Drive/SIMS/Yolo3Cache/config.json -i /content/drive/My\\ Drive/SIMS/Yolo3Cache/test/4954.jpg -o /content/drive/My\\ Drive/SIMS/Yolo3Cache/output/"
      ],
      "execution_count": 0,
      "outputs": []
    },
    {
      "cell_type": "code",
      "metadata": {
        "id": "mLzeiCb8_xU1",
        "colab_type": "code",
        "colab": {}
      },
      "source": [
        "!python predict.py -c /content/drive/My\\ Drive/SIMS/Yolo3Cache/config.json -i /content/drive/My\\ Drive/SIMS/Yolo3Cache/test/2933.jpg -o /content/drive/My\\ Drive/SIMS/Yolo3Cache/output/"
      ],
      "execution_count": 0,
      "outputs": []
    }
  ]
}